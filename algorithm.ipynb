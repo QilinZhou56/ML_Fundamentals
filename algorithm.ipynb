{
 "cells": [
  {
   "cell_type": "markdown",
   "metadata": {},
   "source": [
    "* a + b + c = 1000\n",
    "* a^2 + b^2 = c^2\n",
    "* possible combinations of a, b, c as natural numbers?"
   ]
  },
  {
   "cell_type": "markdown",
   "metadata": {},
   "source": [
    "time.time() method of Time module is used to get the time in seconds since epoch. The handling of leap seconds is platform dependent."
   ]
  },
  {
   "cell_type": "code",
   "execution_count": 24,
   "metadata": {},
   "outputs": [
    {
     "name": "stdout",
     "output_type": "stream",
     "text": [
      "a, b, c : 0, 500, 500\n",
      "a, b, c : 200, 375, 425\n",
      "a, b, c : 375, 200, 425\n",
      "a, b, c : 500, 0, 500\n",
      "time:0.390625\n"
     ]
    }
   ],
   "source": [
    "import time\n",
    "\n",
    "start_time = time.time()\n",
    "for a in range(0, 1001):\n",
    "    for b in range(0, 1001):\n",
    "        c = 1000 - a - b\n",
    "        if a**2 + b**2 == c**2:\n",
    "            print(\"a, b, c : %d, %d, %d\" % (a, b, c))\n",
    "end_time = time.time()\n",
    "print(\"time:%f\" % (end_time - start_time))"
   ]
  },
  {
   "cell_type": "code",
   "execution_count": 25,
   "metadata": {},
   "outputs": [
    {
     "data": {
      "text/plain": [
       "1710619060.380872"
      ]
     },
     "execution_count": 25,
     "metadata": {},
     "output_type": "execute_result"
    }
   ],
   "source": [
    "time.time()"
   ]
  },
  {
   "cell_type": "code",
   "execution_count": 2,
   "metadata": {},
   "outputs": [],
   "source": [
    "from timeit import Timer"
   ]
  },
  {
   "cell_type": "code",
   "execution_count": null,
   "metadata": {},
   "outputs": [],
   "source": [
    "li1 = [1, 2]\n",
    "li2 = [23, 5]\n",
    "\n",
    "li = li1 + li2\n",
    "li = [i for i in range(10000)]\n",
    "li = list(range(1000))  # 可迭代对象转换成列表\n",
    "li = []\n",
    "for i in range(10000):\n",
    "    li.append(i)"
   ]
  },
  {
   "cell_type": "code",
   "execution_count": 3,
   "metadata": {},
   "outputs": [],
   "source": [
    "def test1():\n",
    "    li = []\n",
    "    for i in range(10000):\n",
    "        li.append(i)"
   ]
  },
  {
   "cell_type": "code",
   "execution_count": 20,
   "metadata": {},
   "outputs": [],
   "source": [
    "def test2():\n",
    "    li = []\n",
    "    for i in range(10000):\n",
    "        li = li + [i]"
   ]
  },
  {
   "cell_type": "code",
   "execution_count": null,
   "metadata": {},
   "outputs": [],
   "source": [
    "def test22():  # the speed is similar to extend, due to += optimization\n",
    "    li = []\n",
    "    for i in range(10000):\n",
    "        li += [i]"
   ]
  },
  {
   "cell_type": "code",
   "execution_count": 5,
   "metadata": {},
   "outputs": [],
   "source": [
    "def test3():\n",
    "    li = [i for i in range(10000)]"
   ]
  },
  {
   "cell_type": "code",
   "execution_count": 6,
   "metadata": {},
   "outputs": [],
   "source": [
    "def test4():\n",
    "    li = list(range(10000))"
   ]
  },
  {
   "cell_type": "code",
   "execution_count": 15,
   "metadata": {},
   "outputs": [],
   "source": [
    "def test5():\n",
    "    li = []\n",
    "    for i in range(10000):\n",
    "        li.extend([i])"
   ]
  },
  {
   "cell_type": "code",
   "execution_count": 7,
   "metadata": {},
   "outputs": [
    {
     "data": {
      "text/plain": [
       "0.6667247639852576"
      ]
     },
     "execution_count": 7,
     "metadata": {},
     "output_type": "execute_result"
    }
   ],
   "source": [
    "# append\n",
    "timer1 = Timer(\"test1()\", \"from __main__ import test1\")\n",
    "timer1.timeit(1000)"
   ]
  },
  {
   "cell_type": "code",
   "execution_count": 21,
   "metadata": {},
   "outputs": [
    {
     "data": {
      "text/plain": [
       "167.2241275680135"
      ]
     },
     "execution_count": 21,
     "metadata": {},
     "output_type": "execute_result"
    }
   ],
   "source": [
    "# +\n",
    "timer2 = Timer(\"test2()\", \"from __main__ import test2\")  # __main__ 当前启动文件\n",
    "timer2.timeit(1000)"
   ]
  },
  {
   "cell_type": "code",
   "execution_count": 10,
   "metadata": {},
   "outputs": [
    {
     "data": {
      "text/plain": [
       "0.4733084879699163"
      ]
     },
     "execution_count": 10,
     "metadata": {},
     "output_type": "execute_result"
    }
   ],
   "source": [
    "# list comprehension\n",
    "timer3 = Timer(\"test3()\", \"from __main__ import test3\")  # __main__ 当前启动文件\n",
    "timer3.timeit(1000)"
   ]
  },
  {
   "cell_type": "code",
   "execution_count": 11,
   "metadata": {},
   "outputs": [
    {
     "data": {
      "text/plain": [
       "0.23037008702522144"
      ]
     },
     "execution_count": 11,
     "metadata": {},
     "output_type": "execute_result"
    }
   ],
   "source": [
    "# list(iterable)\n",
    "timer4 = Timer(\"test4()\", \"from __main__ import test4\")  # __main__ 当前启动文件\n",
    "timer4.timeit(1000)"
   ]
  },
  {
   "cell_type": "code",
   "execution_count": 14,
   "metadata": {},
   "outputs": [
    {
     "data": {
      "text/plain": [
       "1.0799629379762337"
      ]
     },
     "execution_count": 14,
     "metadata": {},
     "output_type": "execute_result"
    }
   ],
   "source": [
    "# extend\n",
    "timer5 = Timer(\"test5()\", \"from __main__ import test5\")  # __main__ 当前启动文件\n",
    "timer5.timeit(1000)"
   ]
  },
  {
   "cell_type": "markdown",
   "metadata": {},
   "source": [
    "\"+\" and extend takes the longest\n",
    "form an empty list\n",
    "add elements from two lists to this empty list"
   ]
  },
  {
   "cell_type": "code",
   "execution_count": 18,
   "metadata": {},
   "outputs": [],
   "source": [
    "# insert from beginning\n",
    "def test6():\n",
    "    li = []\n",
    "    for i in range(10000):\n",
    "        li.insert(0, i)"
   ]
  },
  {
   "cell_type": "code",
   "execution_count": 19,
   "metadata": {},
   "outputs": [
    {
     "data": {
      "text/plain": [
       "16.301647381973453"
      ]
     },
     "execution_count": 19,
     "metadata": {},
     "output_type": "execute_result"
    }
   ],
   "source": [
    "# insert\n",
    "timer6 = Timer(\"test6()\", \"from __main__ import test6\")  # __main__ 当前启动文件\n",
    "timer6.timeit(1000)"
   ]
  },
  {
   "cell_type": "markdown",
   "metadata": {},
   "source": [
    "数据储存方式决定效率，appending at the end is faster than inserting from the beginning"
   ]
  },
  {
   "cell_type": "code",
   "execution_count": 23,
   "metadata": {},
   "outputs": [
    {
     "name": "stdout",
     "output_type": "stream",
     "text": [
      "4369628504\n"
     ]
    }
   ],
   "source": [
    "a = 1\n",
    "print(id(a))"
   ]
  },
  {
   "cell_type": "markdown",
   "metadata": {},
   "source": [
    "Important functions:\n",
    "* is_empty() 链表是否为空\n",
    "* length() 链表长度\n",
    "* travel() 遍历链表\n",
    "* add(item) 链表头部添加\n",
    "* append(item) 链表尾部添加\n",
    "* insert(pos, item) 指定位置添加\n",
    "* remove(item) 删除节点\n",
    "* search(item) 查找节点是否存在"
   ]
  },
  {
   "cell_type": "markdown",
   "metadata": {},
   "source": [
    "## Linked List"
   ]
  },
  {
   "cell_type": "code",
   "execution_count": 2,
   "metadata": {},
   "outputs": [],
   "source": [
    "class SingleNode(object):\n",
    "    \"\"\"单链表的结点\"\"\"\n",
    "\n",
    "    def __init__(self, item):\n",
    "        # _item存放数据元素\n",
    "        self.item = item\n",
    "        # _next是下一个节点的标识\n",
    "        self.next = None"
   ]
  },
  {
   "cell_type": "code",
   "execution_count": 19,
   "metadata": {},
   "outputs": [],
   "source": [
    "class SingleLinkList(object):\n",
    "    \"\"\"单链表\"\"\"\n",
    "\n",
    "    def __init__(self, node=None):\n",
    "        self.__head = node\n",
    "\n",
    "    def is_empty(self):\n",
    "        \"\"\"判断链表是否为空\"\"\"\n",
    "        return self.__head == None\n",
    "\n",
    "    def length(self):\n",
    "        \"\"\"链表长度\"\"\"\n",
    "        # cur初始时指向头节点\n",
    "        cur = self.__head\n",
    "        count = 0\n",
    "        # 尾节点指向None，当未到达尾部时\n",
    "        while cur != None:\n",
    "            count += 1\n",
    "            # 将cur后移一个节点\n",
    "            cur = cur.next\n",
    "        return count\n",
    "\n",
    "    def travel(self):\n",
    "        \"\"\"遍历链表\"\"\"\n",
    "        cur = self.__head\n",
    "        while cur != None:\n",
    "            print(cur.item, end=\" \")\n",
    "            cur = cur.next\n",
    "\n",
    "    def add(self, item):\n",
    "        \"\"\"头部添加元素\"\"\"\n",
    "        # 先创建一个保存item值的节点\n",
    "        node = SingleNode(item)\n",
    "        # 将新节点的链接域next指向头节点，即_head指向的位置\n",
    "        node.next = self.__head\n",
    "        # 将链表的头_head指向新节点\n",
    "        self.__head = node\n",
    "\n",
    "    def append(self, item):\n",
    "        \"\"\"尾部添加元素\"\"\"\n",
    "        node = SingleNode(item)\n",
    "        # 先判断链表是否为空，若是空链表，则将_head指向新节点\n",
    "        if self.is_empty():\n",
    "            self.__head = node\n",
    "        # 若不为空，则找到尾部，将尾节点的next指向新节点\n",
    "        else:\n",
    "            cur = self.__head\n",
    "            while cur.next != None:\n",
    "                cur = cur.next\n",
    "            cur.next = node\n",
    "\n",
    "    def insert(self, pos, item):\n",
    "        \"\"\"指定位置添加元素\"\"\"\n",
    "        # 若指定位置pos为第一个元素之前，则执行头部插入\n",
    "        if pos <= 0:\n",
    "            self.add(item)\n",
    "        # 若指定位置超过链表尾部，则执行尾部插入\n",
    "        elif pos > (self.length() - 1):\n",
    "            self.append(item)\n",
    "        # 找到指定位置\n",
    "        else:\n",
    "            node = SingleNode(item)\n",
    "            count = 0\n",
    "            # pre用来指向指定位置pos的前一个位置pos-1，初始从头节点开始移动到指定位置\n",
    "            pre = self.__head\n",
    "            while count < (pos - 1):\n",
    "                count += 1\n",
    "                pre = pre.next\n",
    "            # 先将新节点node的next指向插入位置的节点\n",
    "            node.next = pre.next\n",
    "            # 将插入位置的前一个节点的next指向新节点\n",
    "            pre.next = node\n",
    "\n",
    "    def remove(self, item):\n",
    "        \"\"\"删除节点\"\"\"\n",
    "        cur = self.__head\n",
    "        pre = None\n",
    "        while cur != None:\n",
    "            # 找到了指定元素\n",
    "            if cur.item == item:\n",
    "                # 如果第一个就是删除的节点\n",
    "                # 头节点\n",
    "                if not pre:\n",
    "                    # 将头指针指向头节点的后一个节点\n",
    "                    self.__head = cur.next\n",
    "                else:\n",
    "                    # 中间节点\n",
    "                    # 将删除位置前一个节点的next指向删除位置的后一个节点\n",
    "                    pre.next = cur.next\n",
    "                break\n",
    "            else:\n",
    "                # 继续按链表后移节点\n",
    "                pre = cur\n",
    "                cur = cur.next\n",
    "\n",
    "    def search(self, item):\n",
    "        \"\"\"链表查找节点是否存在，并返回True或者False\"\"\"\n",
    "        cur = self.__head\n",
    "        while cur != None:\n",
    "            if cur.item == item:\n",
    "                return True\n",
    "            cur = cur.next\n",
    "        return False"
   ]
  },
  {
   "cell_type": "code",
   "execution_count": 18,
   "metadata": {},
   "outputs": [
    {
     "name": "stdout",
     "output_type": "stream",
     "text": [
      "length: 4\n",
      "2 1 4 3 True\n",
      "False\n",
      "length: 3\n",
      "2 4 3 "
     ]
    },
    {
     "name": "stderr",
     "output_type": "stream",
     "text": [
      "Bad pipe message: %s [b'live\\r\\nAccept: */*\\r\\nAccess-Control-Request-Me', b'od: GET\\r\\nAccess-Control-Request-Private-Network: true\\r\\nOrigin: https://api-322c2749.duosecurity.com\\r\\nUser-Agent: Mo']\n",
      "Bad pipe message: %s [b'ep-alive\\r\\nsec-ch-ua: \"Chromium\";v=\"122\", \"Not(A:Brand\";v=\"24\", \"Google Chrome\";v=\"122\"\\r\\nAccept: text/plain', b'*/*; q=0.01\\r\\nsec-ch-ua-mobile: ?0\\r\\nUser-Age']\n",
      "Bad pipe message: %s [b': Mozilla/5.0 (Macintosh; Intel Mac OS X 10_15_7) AppleWebKit/537.36 (KHTML, like Gecko) Chrome/122.0.0.0 Saf']\n",
      "Bad pipe message: %s [b'i/537.36\\r\\nsec-ch-ua-platform: \"macOS\"\\r\\nOrigin: https://api-322c2749.duosecurity.com\\r\\nSec-Fetch-S']\n",
      "Bad pipe message: %s [b'e: cross-site\\r\\nSec-Fetch-Mode: cors\\r\\nSec-Fetch-Dest: empty\\r\\nAccept-Encoding: gzip, deflate, br, zstd\\r\\nAc']\n"
     ]
    }
   ],
   "source": [
    "if __name__ == \"__main__\":\n",
    "    ll = SingleLinkList()\n",
    "    ll.add(1)\n",
    "    ll.add(2)\n",
    "    ll.append(3)\n",
    "    ll.insert(2, 4)\n",
    "    print(\"length:\", ll.length())\n",
    "    ll.travel()\n",
    "    print(ll.search(3))\n",
    "    print(ll.search(5))\n",
    "    ll.remove(1)\n",
    "    print(\"length:\", ll.length())\n",
    "    ll.travel()"
   ]
  },
  {
   "cell_type": "code",
   "execution_count": 27,
   "metadata": {},
   "outputs": [
    {
     "name": "stdout",
     "output_type": "stream",
     "text": [
      "length: 6\n",
      "6 2 1 4 3 5 True\n",
      "False\n",
      "length: 5\n",
      "6 2 4 3 5 "
     ]
    }
   ],
   "source": [
    "class SinCycLinkedlist(object):\n",
    "    \"\"\"单向循环链表\"\"\"\n",
    "\n",
    "    def __init__(self, node=None):\n",
    "        self.__head = None\n",
    "        if node:\n",
    "            node.next = node\n",
    "\n",
    "    def is_empty(self):\n",
    "        \"\"\"判断链表是否为空\"\"\"\n",
    "        return self.__head == None\n",
    "\n",
    "    def length(self):\n",
    "        \"\"\"返回链表的长度\"\"\"\n",
    "        # 如果链表为空，返回长度0\n",
    "        if self.is_empty():\n",
    "            return 0\n",
    "        count = 1\n",
    "        cur = self.__head\n",
    "        while cur.next != self.__head:\n",
    "            count += 1\n",
    "            cur = cur.next\n",
    "        return count\n",
    "\n",
    "    def travel(self):\n",
    "        \"\"\"遍历链表\"\"\"\n",
    "        if self.is_empty():\n",
    "            return\n",
    "        cur = self.__head\n",
    "        print(cur.item, end=\" \")\n",
    "        while cur.next != self.__head:\n",
    "            cur = cur.next\n",
    "            print(cur.item, end=\" \")\n",
    "\n",
    "    def add(self, item):\n",
    "        \"\"\"头部添加节点\"\"\"\n",
    "        node = SingleNode(item)\n",
    "        if self.is_empty():\n",
    "            self.__head = node\n",
    "            node.next = self.__head\n",
    "        else:\n",
    "            # 添加的节点指向_head\n",
    "            node.next = self.__head\n",
    "            # 移到链表尾部，将尾部节点的next指向node\n",
    "            cur = self.__head\n",
    "            while cur.next != self.__head:\n",
    "                cur = cur.next\n",
    "            cur.next = node\n",
    "            # _head指向添加node的\n",
    "            self.__head = node\n",
    "\n",
    "    def append(self, item):\n",
    "        \"\"\"尾部添加节点\"\"\"\n",
    "        node = SingleNode(item)\n",
    "        if self.is_empty():\n",
    "            self.__head = node\n",
    "            node.next = self.__head\n",
    "        else:\n",
    "            # 移到链表尾部\n",
    "            cur = self.__head\n",
    "            while cur.next != self.__head:\n",
    "                cur = cur.next\n",
    "            # 将尾节点指向node\n",
    "            cur.next = node\n",
    "            # 将node指向头节点_head\n",
    "            node.next = self.__head\n",
    "\n",
    "    def insert(self, pos, item):\n",
    "        \"\"\"在指定位置添加节点\"\"\"\n",
    "        if pos <= 0:\n",
    "            self.add(item)\n",
    "        elif pos > (self.length() - 1):\n",
    "            self.append(item)\n",
    "        else:\n",
    "            node = SingleNode(item)\n",
    "            cur = self.__head\n",
    "            count = 0\n",
    "            # 移动到指定位置的前一个位置\n",
    "            while count < (pos - 1):\n",
    "                count += 1\n",
    "                cur = cur.next\n",
    "            node.next = cur.next\n",
    "            cur.next = node\n",
    "\n",
    "    def remove(self, item):\n",
    "        \"\"\"删除一个节点\"\"\"\n",
    "        # 若链表为空，则直接返回\n",
    "        if self.is_empty():\n",
    "            return\n",
    "        # 将cur指向头节点\n",
    "        cur = self.__head\n",
    "        pre = None\n",
    "        # 若头节点的元素就是要查找的元素item\n",
    "        if cur.item == item:\n",
    "            # 如果链表不止一个节点\n",
    "            if cur.next != self.__head:\n",
    "                # 先找到尾节点，将尾节点的next指向第二个节点\n",
    "                while cur.next != self.__head:\n",
    "                    cur = cur.next\n",
    "                # cur指向了尾节点\n",
    "                cur.next = self.__head.next\n",
    "                self.__head = self.__head.next\n",
    "            else:\n",
    "                # 链表只有一个节点\n",
    "                self.__head = None\n",
    "        else:\n",
    "            pre = self.__head\n",
    "            # 第一个节点不是要删除的\n",
    "            while cur.next != self.__head:\n",
    "                # 找到了要删除的元素\n",
    "                if cur.item == item:\n",
    "                    # 删除\n",
    "                    pre.next = cur.next\n",
    "                    return\n",
    "                else:\n",
    "                    pre = cur\n",
    "                    cur = cur.next\n",
    "            # cur 指向尾节点\n",
    "            if cur.item == item:\n",
    "                # 尾部删除\n",
    "                pre.next = cur.next\n",
    "\n",
    "    def search(self, item):\n",
    "        \"\"\"查找节点是否存在\"\"\"\n",
    "        if self.is_empty():\n",
    "            return False\n",
    "        cur = self.__head\n",
    "        if cur.item == item:\n",
    "            return True\n",
    "        while cur.next != self.__head:\n",
    "            cur = cur.next\n",
    "            if cur.item == item:\n",
    "                return True\n",
    "        return False\n",
    "\n",
    "\n",
    "if __name__ == \"__main__\":\n",
    "    ll = SinCycLinkedlist()\n",
    "    ll.add(1)\n",
    "    ll.add(2)\n",
    "    ll.append(3)\n",
    "    ll.insert(2, 4)\n",
    "    ll.insert(4, 5)\n",
    "    ll.insert(0, 6)\n",
    "    print(\"length:\", ll.length())\n",
    "    ll.travel()\n",
    "    print(ll.search(3))\n",
    "    print(ll.search(7))\n",
    "    ll.remove(1)\n",
    "    print(\"length:\", ll.length())\n",
    "    ll.travel()"
   ]
  },
  {
   "cell_type": "code",
   "execution_count": 35,
   "metadata": {},
   "outputs": [],
   "source": [
    "class Node(object):\n",
    "    \"\"\"双向链表节点\"\"\"\n",
    "\n",
    "    def __init__(self, item):\n",
    "        self.item = item\n",
    "        self.next = None\n",
    "        self.prev = None\n",
    "\n",
    "\n",
    "class DLinkList(object):\n",
    "    \"\"\"双向链表\"\"\"\n",
    "\n",
    "    def __init__(self, node=None):\n",
    "        self.__head = node\n",
    "\n",
    "    def is_empty(self):\n",
    "        \"\"\"判断链表是否为空\"\"\"\n",
    "        return self.__head == None\n",
    "\n",
    "    def length(self):\n",
    "        \"\"\"返回链表的长度\"\"\"\n",
    "        cur = self.__head\n",
    "        count = 0\n",
    "        while cur != None:\n",
    "            count += 1\n",
    "            cur = cur.next\n",
    "        return count\n",
    "\n",
    "    def travel(self):\n",
    "        \"\"\"遍历链表\"\"\"\n",
    "        cur = self.__head\n",
    "        while cur != None:\n",
    "            print(cur.item, end=\" \")\n",
    "            cur = cur.next\n",
    "\n",
    "    def add(self, item):\n",
    "        \"\"\"头部插入元素\"\"\"\n",
    "        node = Node(item)\n",
    "        if self.is_empty():\n",
    "            # 如果是空链表，将_head指向node\n",
    "            self.__head = node\n",
    "        else:\n",
    "            # 将node的next指向_head的头节点\n",
    "            node.next = self.__head\n",
    "            # 将_head的头节点的prev指向node\n",
    "            self.__head.prev = node\n",
    "            # 将_head 指向node\n",
    "            self.__head = node\n",
    "\n",
    "    def append(self, item):\n",
    "        \"\"\"尾部插入元素\"\"\"\n",
    "        node = Node(item)\n",
    "        if self.is_empty():\n",
    "            # 如果是空链表，将_head指向node\n",
    "            self.__head = node\n",
    "        else:\n",
    "            # 移动到链表尾部\n",
    "            cur = self.__head\n",
    "            while cur.next != None:\n",
    "                cur = cur.next\n",
    "            # 将尾节点cur的next指向node\n",
    "            cur.next = node\n",
    "            # 将node的prev指向cur\n",
    "            node.prev = cur\n",
    "\n",
    "    def search(self, item):\n",
    "        \"\"\"查找元素是否存在\"\"\"\n",
    "        cur = self.__head\n",
    "        while cur != None:\n",
    "            if cur.item == item:\n",
    "                return True\n",
    "            cur = cur.next\n",
    "        return False\n",
    "\n",
    "    def insert(self, pos, item):\n",
    "        \"\"\"在指定位置添加节点\"\"\"\n",
    "        if pos <= 0:\n",
    "            self.add(item)\n",
    "        elif pos > (self.length() - 1):\n",
    "            self.append(item)\n",
    "        else:\n",
    "            node = Node(item)\n",
    "            cur = self.__head\n",
    "            count = 0\n",
    "            # 移动到指定位置的前一个位置\n",
    "            while count < (pos - 1):\n",
    "                count += 1\n",
    "                cur = cur.next\n",
    "            # 将node的prev指向cur\n",
    "            node.prev = cur\n",
    "            # 将node的next指向cur的下一个节点\n",
    "            node.next = cur.next\n",
    "            # 将cur的下一个节点的prev指向node\n",
    "            cur.next.prev = node\n",
    "            # 将cur的next指向node\n",
    "            cur.next = node\n",
    "\n",
    "    def remove(self, item):\n",
    "        \"\"\"删除元素\"\"\"\n",
    "        if self.is_empty():\n",
    "            return\n",
    "        else:\n",
    "            cur = self.__head\n",
    "            if cur.item == item:\n",
    "                # 如果首节点的元素即是要删除的元素\n",
    "                if cur.next == None:\n",
    "                    # 如果链表只有这一个节点\n",
    "                    self.__head = None\n",
    "                else:\n",
    "                    # 将第二个节点的prev设置为None\n",
    "                    cur.next.prev = None\n",
    "                    # 将_head指向第二个节点\n",
    "                    self.__head = cur.next\n",
    "                return\n",
    "            while cur != None:\n",
    "                if cur.item == item:\n",
    "                    # 将cur的前一个节点的next指向cur的后一个节点\n",
    "                    cur.prev.next = cur.next\n",
    "                    if cur.next != None:\n",
    "                        # 将cur的后一个节点的prev指向cur的前一个节点\n",
    "                        cur.next.prev = cur.prev\n",
    "                    break\n",
    "                cur = cur.next"
   ]
  },
  {
   "cell_type": "code",
   "execution_count": 43,
   "metadata": {},
   "outputs": [
    {
     "name": "stdout",
     "output_type": "stream",
     "text": [
      "length: 6\n",
      "6 2 1 4 3 5  \n",
      "True\n",
      "True\n",
      "length: 5\n",
      "6 2 4 3 5  \n",
      "length: 4\n",
      "6 2 4 3 "
     ]
    }
   ],
   "source": [
    "if __name__ == \"__main__\":\n",
    "    ll = DLinkList()\n",
    "    ll.add(1)\n",
    "    ll.add(2)\n",
    "    ll.append(3)\n",
    "    ll.insert(2, 4)\n",
    "    ll.insert(4, 5)\n",
    "    ll.insert(0, 6)\n",
    "    print(\"length:\", ll.length())\n",
    "    ll.travel()\n",
    "    print(\" \")\n",
    "    print(ll.search(3))\n",
    "    print(ll.search(4))\n",
    "    ll.remove(1)\n",
    "    print(\"length:\", ll.length())\n",
    "    ll.travel()\n",
    "    ll.remove(5)\n",
    "    print(\" \")\n",
    "    print(\"length:\", ll.length())\n",
    "    ll.travel()"
   ]
  },
  {
   "cell_type": "markdown",
   "metadata": {},
   "source": [
    "## Stack (LIFO, Last In First Out)"
   ]
  },
  {
   "cell_type": "markdown",
   "metadata": {},
   "source": [
    "Stack() 创建一个新的空栈\n",
    "* push(item) 添加一个新的元素item到栈顶\n",
    "* pop() 弹出栈顶元素\n",
    "* peek() 返回栈顶元素\n",
    "* is_empty() 判断栈是否为空\n",
    "* size() 返回栈的元素个数"
   ]
  },
  {
   "cell_type": "code",
   "execution_count": 44,
   "metadata": {},
   "outputs": [
    {
     "name": "stdout",
     "output_type": "stream",
     "text": [
      "3\n",
      "itcast\n",
      "itcast\n",
      "world\n",
      "hello\n"
     ]
    }
   ],
   "source": [
    "class Stack(object):\n",
    "    \"\"\"栈\"\"\"\n",
    "\n",
    "    def __init__(self):\n",
    "        self.items = []\n",
    "\n",
    "    def is_empty(self):\n",
    "        \"\"\"判断是否为空\"\"\"\n",
    "        return self.items == []\n",
    "\n",
    "    def push(self, item):\n",
    "        \"\"\"加入元素\"\"\"\n",
    "        self.items.append(item)\n",
    "\n",
    "    def pop(self):\n",
    "        \"\"\"弹出元素\"\"\"\n",
    "        return self.items.pop()\n",
    "\n",
    "    def peek(self):\n",
    "        \"\"\"返回栈顶元素\"\"\"\n",
    "        if self.items:\n",
    "            return self.items[len(self.items) - 1]\n",
    "        else:\n",
    "            return None\n",
    "\n",
    "    def size(self):\n",
    "        \"\"\"返回栈的大小\"\"\"\n",
    "        return len(self.items)\n",
    "\n",
    "\n",
    "if __name__ == \"__main__\":\n",
    "    stack = Stack()\n",
    "    stack.push(\"hello\")\n",
    "    stack.push(\"world\")\n",
    "    stack.push(\"itcast\")\n",
    "    print(stack.size())\n",
    "    print(stack.peek())\n",
    "    print(stack.pop())\n",
    "    print(stack.pop())\n",
    "    print(stack.pop())"
   ]
  },
  {
   "cell_type": "markdown",
   "metadata": {},
   "source": [
    "## Queue (First In First Out)"
   ]
  },
  {
   "cell_type": "markdown",
   "metadata": {},
   "source": [
    "Queue() 创建一个空的队列\n",
    "* enqueue(item) 往队列中添加一个item元素\n",
    "* dequeue() 从队列头部删除一个元素\n",
    "* is_empty() 判断一个队列是否为空\n",
    "* size() 返回队列的大小"
   ]
  },
  {
   "cell_type": "code",
   "execution_count": 45,
   "metadata": {},
   "outputs": [
    {
     "name": "stdout",
     "output_type": "stream",
     "text": [
      "3\n",
      "hello\n",
      "world\n",
      "itcast\n"
     ]
    }
   ],
   "source": [
    "class Queue(object):\n",
    "    \"\"\"队列\"\"\"\n",
    "\n",
    "    def __init__(self):\n",
    "        self.items = []\n",
    "\n",
    "    def is_empty(self):\n",
    "        return self.items == []\n",
    "\n",
    "    def enqueue(self, item):\n",
    "        \"\"\"进队列\"\"\"\n",
    "        self.items.insert(0, item)\n",
    "\n",
    "    def dequeue(self):\n",
    "        \"\"\"出队列\"\"\"\n",
    "        return self.items.pop()\n",
    "\n",
    "    def size(self):\n",
    "        \"\"\"返回大小\"\"\"\n",
    "        return len(self.items)\n",
    "\n",
    "\n",
    "if __name__ == \"__main__\":\n",
    "    q = Queue()\n",
    "    q.enqueue(\"hello\")\n",
    "    q.enqueue(\"world\")\n",
    "    q.enqueue(\"itcast\")\n",
    "    print(q.size())\n",
    "    print(q.dequeue())\n",
    "    print(q.dequeue())\n",
    "    print(q.dequeue())"
   ]
  },
  {
   "cell_type": "markdown",
   "metadata": {},
   "source": [
    "Deque() 创建一个空的双端队列\n",
    "* add_front(item) 从队头加入一个item元素\n",
    "* add_rear(item) 从队尾加入一个item元素\n",
    "* remove_front() 从队头删除一个item元素\n",
    "* remove_rear() 从队尾删除一个item元素\n",
    "* is_empty() 判断双端队列是否为空\n",
    "* size() 返回队列的大小"
   ]
  },
  {
   "cell_type": "code",
   "execution_count": 46,
   "metadata": {},
   "outputs": [
    {
     "name": "stdout",
     "output_type": "stream",
     "text": [
      "4\n",
      "2\n",
      "1\n",
      "4\n",
      "3\n"
     ]
    }
   ],
   "source": [
    "class Deque(object):\n",
    "    \"\"\"双端队列\"\"\"\n",
    "\n",
    "    def __init__(self):\n",
    "        self.items = []\n",
    "\n",
    "    def is_empty(self):\n",
    "        \"\"\"判断队列是否为空\"\"\"\n",
    "        return self.items == []\n",
    "\n",
    "    def add_front(self, item):\n",
    "        \"\"\"在队头添加元素\"\"\"\n",
    "        self.items.insert(0, item)\n",
    "\n",
    "    def add_rear(self, item):\n",
    "        \"\"\"在队尾添加元素\"\"\"\n",
    "        self.items.append(item)\n",
    "\n",
    "    def remove_front(self):\n",
    "        \"\"\"从队头删除元素\"\"\"\n",
    "        return self.items.pop(0)\n",
    "\n",
    "    def remove_rear(self):\n",
    "        \"\"\"从队尾删除元素\"\"\"\n",
    "        return self.items.pop()\n",
    "\n",
    "    def size(self):\n",
    "        \"\"\"返回队列大小\"\"\"\n",
    "        return len(self.items)\n",
    "\n",
    "\n",
    "if __name__ == \"__main__\":\n",
    "    deque = Deque()\n",
    "    deque.add_front(1)\n",
    "    deque.add_front(2)\n",
    "    deque.add_rear(3)\n",
    "    deque.add_rear(4)\n",
    "    print(deque.size())\n",
    "    print(deque.remove_front())\n",
    "    print(deque.remove_front())\n",
    "    print(deque.remove_rear())\n",
    "    print(deque.remove_rear())"
   ]
  },
  {
   "cell_type": "markdown",
   "metadata": {},
   "source": [
    "## Sorting Algorithm"
   ]
  },
  {
   "cell_type": "markdown",
   "metadata": {},
   "source": [
    "* Bubble Sort"
   ]
  },
  {
   "cell_type": "code",
   "execution_count": 52,
   "metadata": {},
   "outputs": [],
   "source": [
    "def bubble_sort(alist):\n",
    "    n = len(alist)\n",
    "    for j in range(n - 1):\n",
    "        count = 0\n",
    "        for i in range(0, n - 1 - j):\n",
    "            if alist[i] > alist[i + 1]:\n",
    "                alist[i], alist[i + 1] = alist[i + 1], alist[i]\n",
    "                count += 1\n",
    "\n",
    "        if count == 0:\n",
    "            break\n",
    "\n",
    "\n",
    "# i 0 ~ n-2 range(0, n-1) j=0\n",
    "# j 0 ~ n-3 range(0, n-1-1) j=1\n",
    "# j 0 ~ n-4 range(0, n-1-2) j=2"
   ]
  },
  {
   "cell_type": "code",
   "execution_count": 50,
   "metadata": {},
   "outputs": [],
   "source": [
    "def bubble_sort(alist):\n",
    "    for j in range(len(alist) - 1, 0, -1):  # n-1,...,1\n",
    "        # j表示每次遍历需要比较的次数，是逐渐减小的\n",
    "        for i in range(j):\n",
    "            if alist[i] > alist[i + 1]:\n",
    "                alist[i], alist[i + 1] = alist[i + 1], alist[i]"
   ]
  },
  {
   "cell_type": "code",
   "execution_count": 53,
   "metadata": {},
   "outputs": [
    {
     "name": "stdout",
     "output_type": "stream",
     "text": [
      "[17, 20, 26, 31, 44, 54, 55, 77, 93, 93]\n"
     ]
    }
   ],
   "source": [
    "li = [54, 26, 93, 17, 77, 31, 44, 55, 20]\n",
    "bubble_sort(li)\n",
    "print(li)"
   ]
  },
  {
   "cell_type": "markdown",
   "metadata": {},
   "source": [
    "1. 最优时间复杂度：O(n) （表示遍历一次发现没有任何可以交换的元素，排序结束。）\n",
    "2. 最坏时间复杂度：O(n2)\n",
    "3. 稳定性：稳定"
   ]
  },
  {
   "cell_type": "markdown",
   "metadata": {},
   "source": [
    "* Selection Sort"
   ]
  },
  {
   "cell_type": "code",
   "execution_count": 63,
   "metadata": {},
   "outputs": [],
   "source": [
    "def selection_sort(alist):\n",
    "    n = len(alist)\n",
    "    # 需要进行n-1次选择操作\n",
    "    for i in range(n - 1):\n",
    "        # 记录最小位置\n",
    "        min_index = i\n",
    "        # 从i+1位置到末尾选择出最小数据\n",
    "        for j in range(i + 1, n):\n",
    "            if alist[j] < alist[min_index]:\n",
    "                min_index = j\n",
    "        # 如果选择出的数据不在正确位置，进行交换\n",
    "        if min_index != i:\n",
    "            alist[i], alist[min_index] = alist[min_index], alist[i]"
   ]
  },
  {
   "cell_type": "code",
   "execution_count": 64,
   "metadata": {},
   "outputs": [
    {
     "name": "stdout",
     "output_type": "stream",
     "text": [
      "[17, 17, 20, 31, 44, 54, 55, 77, 93, 93, 226]\n"
     ]
    }
   ],
   "source": [
    "alist = [54, 226, 93, 17, 17, 77, 31, 44, 55, 20, 93]\n",
    "selection_sort(alist)\n",
    "print(alist)"
   ]
  },
  {
   "cell_type": "markdown",
   "metadata": {},
   "source": [
    "1. 最优时间复杂度：O(n2)\n",
    "2. 最坏时间复杂度：O(n2)\n",
    "3. 稳定性：不稳定（考虑升序每次选择最大的情况）"
   ]
  },
  {
   "cell_type": "markdown",
   "metadata": {},
   "source": [
    "* Insertion Sort"
   ]
  },
  {
   "cell_type": "code",
   "execution_count": 73,
   "metadata": {},
   "outputs": [],
   "source": [
    "def insert_sort(alist):\n",
    "    # 从第二个位置，即下标为1的元素开始向前插入\n",
    "    for i in range(1, len(alist)):\n",
    "        # 从第i个元素开始向前比较，如果小于前一个元素，交换位置\n",
    "        for j in range(i, 0, -1):\n",
    "            if alist[j] < alist[j - 1]:\n",
    "                alist[j], alist[j - 1] = alist[j - 1], alist[j]"
   ]
  },
  {
   "cell_type": "code",
   "execution_count": 74,
   "metadata": {},
   "outputs": [
    {
     "name": "stdout",
     "output_type": "stream",
     "text": [
      "[17, 20, 26, 31, 44, 54, 55, 77, 93]\n"
     ]
    }
   ],
   "source": [
    "alist = [54, 26, 93, 17, 77, 31, 44, 55, 20]\n",
    "insert_sort(alist)\n",
    "print(alist)"
   ]
  },
  {
   "cell_type": "markdown",
   "metadata": {},
   "source": [
    "1. 最优时间复杂度：O(n) （升序排列，序列已经处于升序状态）\n",
    "2. 最坏时间复杂度：O(n2)\n",
    "3. 稳定性：稳定"
   ]
  },
  {
   "cell_type": "markdown",
   "metadata": {},
   "source": [
    "* Shell Sort"
   ]
  },
  {
   "cell_type": "code",
   "execution_count": 77,
   "metadata": {},
   "outputs": [
    {
     "name": "stdout",
     "output_type": "stream",
     "text": [
      "[17, 20, 26, 31, 44, 54, 55, 77, 93]\n"
     ]
    }
   ],
   "source": [
    "def shell_sort(alist):\n",
    "    n = len(alist)\n",
    "    # 初始步长\n",
    "    gap = n // 2\n",
    "    while gap > 0:\n",
    "        # 按步长进行插入排序\n",
    "        for i in range(gap, n):\n",
    "            j = i\n",
    "            # 插入排序\n",
    "            while j >= gap and alist[j - gap] > alist[j]:\n",
    "                alist[j - gap], alist[j] = alist[j], alist[j - gap]\n",
    "                j -= gap\n",
    "        # 得到新的步长\n",
    "        gap = gap // 2\n",
    "\n",
    "\n",
    "alist = [54, 26, 93, 17, 77, 31, 44, 55, 20]\n",
    "shell_sort(alist)\n",
    "print(alist)"
   ]
  },
  {
   "cell_type": "markdown",
   "metadata": {},
   "source": [
    "1. 最优时间复杂度：根据步长序列的不同而不同\n",
    "2. 最坏时间复杂度：O(n2)\n",
    "3. 稳定想：不稳定"
   ]
  },
  {
   "cell_type": "markdown",
   "metadata": {},
   "source": [
    "* Quick Sort"
   ]
  },
  {
   "cell_type": "code",
   "execution_count": 79,
   "metadata": {},
   "outputs": [
    {
     "name": "stdout",
     "output_type": "stream",
     "text": [
      "[17, 20, 26, 31, 44, 54, 55, 77, 93]\n"
     ]
    }
   ],
   "source": [
    "def quick_sort(alist, start, end):\n",
    "    \"\"\"快速排序\"\"\"\n",
    "\n",
    "    # 递归的退出条件\n",
    "    if start >= end:\n",
    "        return\n",
    "\n",
    "    # 设定起始元素为要寻找位置的基准元素\n",
    "    mid = alist[start]\n",
    "\n",
    "    # low为序列左边的由左向右移动的游标\n",
    "    low = start\n",
    "\n",
    "    # high为序列右边的由右向左移动的游标\n",
    "    high = end\n",
    "\n",
    "    while low < high:\n",
    "        # 如果low与high未重合，high指向的元素不比基准元素小，则high向左移动\n",
    "        while low < high and alist[high] >= mid:\n",
    "            high -= 1\n",
    "        # 将high指向的元素放到low的位置上\n",
    "        alist[low] = alist[high]\n",
    "\n",
    "        # 如果low与high未重合，low指向的元素比基准元素小，则low向右移动\n",
    "        while low < high and alist[low] < mid:\n",
    "            low += 1\n",
    "        # 将low指向的元素放到high的位置上\n",
    "        alist[high] = alist[low]\n",
    "\n",
    "    # 退出循环后，low与high重合，此时所指位置为基准元素的正确位置\n",
    "    # 将基准元素放到该位置\n",
    "    alist[low] = mid\n",
    "\n",
    "    # 对基准元素左边的子序列进行快速排序\n",
    "    quick_sort(alist, start, low - 1)\n",
    "\n",
    "    # 对基准元素右边的子序列进行快速排序\n",
    "    quick_sort(alist, low + 1, end)\n",
    "\n",
    "\n",
    "alist = [54, 26, 93, 17, 77, 31, 44, 55, 20]\n",
    "quick_sort(alist, 0, len(alist) - 1)\n",
    "print(alist)"
   ]
  },
  {
   "cell_type": "markdown",
   "metadata": {},
   "source": [
    "1. 最优时间复杂度：O(nlogn)\n",
    "2. 最坏时间复杂度：O(n2)\n",
    "3. 稳定性：不稳定"
   ]
  },
  {
   "cell_type": "markdown",
   "metadata": {},
   "source": [
    "* Merge Sort"
   ]
  },
  {
   "cell_type": "code",
   "execution_count": 83,
   "metadata": {},
   "outputs": [
    {
     "name": "stdout",
     "output_type": "stream",
     "text": [
      "[17, 20, 26, 31, 44, 54, 55, 77, 93]\n"
     ]
    }
   ],
   "source": [
    "def merge_sort(alist):\n",
    "    if len(alist) <= 1:\n",
    "        return alist\n",
    "    # 二分分解，使用整数除法确保下标为整数\n",
    "    num = len(alist) // 2\n",
    "    left = merge_sort(alist[:num])\n",
    "    right = merge_sort(alist[num:])\n",
    "    # 合并\n",
    "    return merge(left, right)\n",
    "\n",
    "\n",
    "def merge(left, right):\n",
    "    \"\"\"合并操作，将两个有序数组left[]和right[]合并成一个大的有序数组\"\"\"\n",
    "    # left与right的下标指针\n",
    "    l, r = 0, 0\n",
    "    result = []\n",
    "    while l < len(left) and r < len(right):\n",
    "        if left[l] < right[r]:\n",
    "            result.append(left[l])\n",
    "            l += 1\n",
    "        else:\n",
    "            result.append(right[r])\n",
    "            r += 1\n",
    "    result += left[l:]\n",
    "    result += right[r:]\n",
    "    return result\n",
    "\n",
    "\n",
    "alist = [54, 26, 93, 17, 77, 31, 44, 55, 20]\n",
    "sorted_alist = merge_sort(alist)\n",
    "print(sorted_alist)"
   ]
  },
  {
   "cell_type": "markdown",
   "metadata": {},
   "source": [
    "1. 最优时间复杂度：O(nlogn)\n",
    "2. 最坏时间复杂度：O(nlogn)\n",
    "3. 稳定性：稳定"
   ]
  },
  {
   "attachments": {
    "image.png": {
     "image/png": "[encoded data removed]"
    }
   },
   "cell_type": "markdown",
   "metadata": {},
   "source": [
    "![image.png](attachment:image.png)"
   ]
  },
  {
   "cell_type": "markdown",
   "metadata": {},
   "source": [
    "* Binary Search"
   ]
  },
  {
   "cell_type": "code",
   "execution_count": 78,
   "metadata": {},
   "outputs": [
    {
     "name": "stdout",
     "output_type": "stream",
     "text": [
      "False\n",
      "True\n"
     ]
    }
   ],
   "source": [
    "def binary_search(alist, item):\n",
    "    if len(alist) == 0:\n",
    "        return False\n",
    "    else:\n",
    "        midpoint = len(alist) // 2\n",
    "        if alist[midpoint] == item:\n",
    "            return True\n",
    "        else:\n",
    "            if item < alist[midpoint]:\n",
    "                return binary_search(alist[:midpoint], item)\n",
    "            else:\n",
    "                return binary_search(alist[midpoint + 1 :], item)\n",
    "\n",
    "\n",
    "testlist = [\n",
    "    0,\n",
    "    1,\n",
    "    2,\n",
    "    8,\n",
    "    13,\n",
    "    17,\n",
    "    19,\n",
    "    32,\n",
    "    42,\n",
    "]\n",
    "print(binary_search(testlist, 3))\n",
    "print(binary_search(testlist, 13))"
   ]
  },
  {
   "cell_type": "markdown",
   "metadata": {},
   "source": [
    "1. 最优时间复杂度：O(1)\n",
    "2. 最坏时间复杂度：O(logn)"
   ]
  },
  {
   "cell_type": "markdown",
   "metadata": {},
   "source": [
    "## Tree"
   ]
  },
  {
   "cell_type": "markdown",
   "metadata": {},
   "source": [
    "树的术语\n",
    "1. 节点的度：一个节点含有的子树的个数称为该节点的度；\n",
    "2. 树的度：一棵树中，最大的节点的度称为树的度；\n",
    "3. 叶节点或终端节点：度为零的节点；\n",
    "4. 父亲节点或父节点：若一个节点含有子节点，则这个节点称为其子节点的父节点；\n",
    "5. 孩子节点或子节点：一个节点含有的子树的根节点称为该节点的子节点；\n",
    "6. 兄弟节点：具有相同父节点的节点互称为兄弟节点；\n",
    "7. 节点的层次：从根开始定义起，根为第1层，根的子节点为第2层，以此类推；\n",
    "8. 树的高度或深度：树中节点的最大层次；\n",
    "9. 堂兄弟节点：父节点在同一层的节点互为堂兄弟；\n",
    "10. 节点的祖先：从根到该节点所经分支上的所有节点；\n",
    "11. 子孙：以某节点为根的子树中任一节点都称为该节点的子孙。\n",
    "12. 森林：由m（m>=0）棵互不相交的树的集合称为森林；"
   ]
  },
  {
   "cell_type": "markdown",
   "metadata": {},
   "source": [
    "树的种类\n",
    "1. 无序树：树中任意节点的子节点之间没有顺序关系，这种树称为无序树，也称为自由树；\n",
    "2. 有序树：树中任意节点的子节点之间有顺序关系，这种树称为有序树；\n",
    "    * 二叉树：每个节点最多含有两个子树的树称为二叉树；\n",
    "        * 完全二叉树：对于一颗二叉树，假设其深度为d(d>1)。除了第d层外，其它各层的节点数目均已达最大值，且第d层所有节点从左向右连续地紧密排列，这样的二叉树被称为完全二叉树，其中满二叉树的定义是所有叶节点都在最底层的完全二叉树;\n",
    "        * 平衡二叉树（AVL树）：当且仅当任何节点的两棵子树的高度差不大于1的二叉树；\n",
    "        * 排序二叉树（二叉查找树（英语：Binary Search Tree），也称二叉搜索树、有序二叉树）；\n",
    "    * 霍夫曼树（用于信息编码）：带权路径最短的二叉树称为哈夫曼树或最优二叉树；\n",
    "    * B树：一种对读写操作进行优化的自平衡的二叉查找树，能够保持数据有序，拥有多余两个子树。"
   ]
  },
  {
   "cell_type": "markdown",
   "metadata": {},
   "source": [
    "1. xml，html等，那么编写这些东西的解析器的时候，不可避免用到树\n",
    "2. 路由协议就是使用了树的算法\n",
    "3. mysql数据库索引\n",
    "4. 文件系统的目录结构\n",
    "5. 所以很多经典的AI算法其实都是树搜索，此外机器学习中的decision tree也是树结构"
   ]
  }
 ],
 "metadata": {
  "kernelspec": {
   "display_name": "base",
   "language": "python",
   "name": "python3"
  },
  "language_info": {
   "codemirror_mode": {
    "name": "ipython",
    "version": 3
   },
   "file_extension": ".py",
   "mimetype": "text/x-python",
   "name": "python",
   "nbconvert_exporter": "python",
   "pygments_lexer": "ipython3",
   "version": "3.11.5"
  }
 },
 "nbformat": 4,
 "nbformat_minor": 2
}
