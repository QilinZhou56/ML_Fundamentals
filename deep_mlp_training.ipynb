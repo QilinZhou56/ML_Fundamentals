{
  "cells": [
    {
      "cell_type": "markdown",
      "source": [
        "# Qilin Zhou 2/10/2024"
      ],
      "metadata": {
        "id": "_WgYdDfbVS83"
      }
    },
    {
      "cell_type": "markdown",
      "metadata": {
        "id": "WSb06NebVLBI"
      },
      "source": [
        "# Question 1 Train a deep MLP on MNIST"
      ]
    },
    {
      "cell_type": "markdown",
      "metadata": {
        "id": "oGvOyEw5VLBM"
      },
      "source": [
        "## Step 1: Load the dataset"
      ]
    },
    {
      "cell_type": "code",
      "execution_count": null,
      "metadata": {
        "id": "6y3afTV4VLBN"
      },
      "outputs": [],
      "source": [
        "import tensorflow as tf\n",
        "from tensorflow import keras"
      ]
    },
    {
      "cell_type": "code",
      "execution_count": null,
      "metadata": {
        "id": "A02vni1SVLBO"
      },
      "outputs": [],
      "source": [
        "(X_train_full, y_train_full), (X_test, y_test) = keras.datasets.mnist.load_data()\n"
      ]
    },
    {
      "cell_type": "markdown",
      "metadata": {
        "id": "4KJY4KpBVLBP"
      },
      "source": [
        "The training set contains 60,000 grayscale images, each 28x28 pixels"
      ]
    },
    {
      "cell_type": "code",
      "execution_count": null,
      "metadata": {
        "id": "B7j5d4LvVLBP",
        "outputId": "389079d9-876a-499a-b048-17634ec5aa5b"
      },
      "outputs": [
        {
          "data": {
            "text/plain": [
              "((60000, 28, 28), (60000,), (10000, 28, 28), (10000,))"
            ]
          },
          "execution_count": 9,
          "metadata": {},
          "output_type": "execute_result"
        }
      ],
      "source": [
        "X_train_full.shape, y_train_full.shape, X_test.shape, y_test.shape"
      ]
    },
    {
      "cell_type": "markdown",
      "metadata": {
        "id": "GosOWANXVLBQ"
      },
      "source": [
        "Each pixel intensity is represented as a byte (0 to 255):"
      ]
    },
    {
      "cell_type": "code",
      "execution_count": null,
      "metadata": {
        "id": "iQ5Yp-A3VLBR",
        "outputId": "6cd0e584-7c8a-4700-8664-fed6ee7ced4c"
      },
      "outputs": [
        {
          "data": {
            "text/plain": [
              "dtype('uint8')"
            ]
          },
          "execution_count": 10,
          "metadata": {},
          "output_type": "execute_result"
        }
      ],
      "source": [
        "X_train_full.dtype"
      ]
    },
    {
      "cell_type": "markdown",
      "metadata": {
        "id": "hs6O0z2dVLBR"
      },
      "source": [
        "## Step 2: Split the dataset to training, validation sets"
      ]
    },
    {
      "cell_type": "code",
      "execution_count": null,
      "metadata": {
        "id": "ymvZiBIaVLBS"
      },
      "outputs": [],
      "source": [
        "X_valid, X_train = X_train_full[:5000] / 255., X_train_full[5000:] / 255.\n",
        "y_valid, y_train = y_train_full[:5000], y_train_full[5000:]\n",
        "X_test = X_test / 255."
      ]
    },
    {
      "cell_type": "markdown",
      "metadata": {
        "id": "YlyYTEhzVLBS"
      },
      "source": [
        "## Step 3: Create the model using the Sequential API"
      ]
    },
    {
      "cell_type": "code",
      "execution_count": null,
      "metadata": {
        "id": "44QQhEDMVLBS"
      },
      "outputs": [],
      "source": [
        "import numpy as np\n",
        "np.random.seed(42)\n",
        "tf.random.set_seed(42)\n",
        "\n",
        "model = keras.models.Sequential()\n",
        "model.add(keras.layers.Flatten(input_shape=[28, 28]))\n",
        "model.add(keras.layers.Dense(300, activation=\"relu\"))\n",
        "model.add(keras.layers.Dense(100, activation=\"relu\"))\n",
        "model.add(keras.layers.Dense(10, activation=\"softmax\"))"
      ]
    },
    {
      "cell_type": "markdown",
      "metadata": {
        "id": "csq1qOhnVLBT"
      },
      "source": [
        "## Step 4: Compiling the model"
      ]
    },
    {
      "cell_type": "code",
      "execution_count": null,
      "metadata": {
        "id": "P8iMKoxrVLBT"
      },
      "outputs": [],
      "source": [
        "model.compile(loss=\"sparse_categorical_crossentropy\",\n",
        "              optimizer=\"sgd\",\n",
        "              metrics=[\"accuracy\"])"
      ]
    },
    {
      "cell_type": "markdown",
      "metadata": {
        "id": "MzJAbuyzVLBT"
      },
      "source": [
        "## Step 5: Training and Evaluating the model"
      ]
    },
    {
      "cell_type": "code",
      "execution_count": null,
      "metadata": {
        "id": "kkkveXTBVLBT",
        "outputId": "4432b2aa-c1a5-4f3b-89cd-708e79ab41bf"
      },
      "outputs": [
        {
          "name": "stdout",
          "output_type": "stream",
          "text": [
            "Epoch 1/30\n",
            "1719/1719 [==============================] - 7s 4ms/step - loss: 0.6077 - accuracy: 0.8447 - val_loss: 0.3012 - val_accuracy: 0.9172\n",
            "Epoch 2/30\n",
            "1719/1719 [==============================] - 6s 3ms/step - loss: 0.2864 - accuracy: 0.9192 - val_loss: 0.2395 - val_accuracy: 0.9344\n",
            "Epoch 3/30\n",
            "1719/1719 [==============================] - 6s 3ms/step - loss: 0.2347 - accuracy: 0.9329 - val_loss: 0.2004 - val_accuracy: 0.9426\n",
            "Epoch 4/30\n",
            "1719/1719 [==============================] - 6s 3ms/step - loss: 0.2002 - accuracy: 0.9430 - val_loss: 0.1787 - val_accuracy: 0.9516\n",
            "Epoch 5/30\n",
            "1719/1719 [==============================] - 6s 4ms/step - loss: 0.1749 - accuracy: 0.9503 - val_loss: 0.1600 - val_accuracy: 0.9544\n",
            "Epoch 6/30\n",
            "1719/1719 [==============================] - 6s 3ms/step - loss: 0.1550 - accuracy: 0.9559 - val_loss: 0.1464 - val_accuracy: 0.9598\n",
            "Epoch 7/30\n",
            "1719/1719 [==============================] - 6s 3ms/step - loss: 0.1389 - accuracy: 0.9606 - val_loss: 0.1346 - val_accuracy: 0.9620\n",
            "Epoch 8/30\n",
            "1719/1719 [==============================] - 6s 3ms/step - loss: 0.1256 - accuracy: 0.9642 - val_loss: 0.1283 - val_accuracy: 0.9664\n",
            "Epoch 9/30\n",
            "1719/1719 [==============================] - 6s 4ms/step - loss: 0.1144 - accuracy: 0.9679 - val_loss: 0.1195 - val_accuracy: 0.9678\n",
            "Epoch 10/30\n",
            "1719/1719 [==============================] - 6s 3ms/step - loss: 0.1050 - accuracy: 0.9699 - val_loss: 0.1102 - val_accuracy: 0.9694\n",
            "Epoch 11/30\n",
            "1719/1719 [==============================] - 6s 3ms/step - loss: 0.0964 - accuracy: 0.9728 - val_loss: 0.1075 - val_accuracy: 0.9704\n",
            "Epoch 12/30\n",
            "1719/1719 [==============================] - 6s 3ms/step - loss: 0.0889 - accuracy: 0.9747 - val_loss: 0.1021 - val_accuracy: 0.9714\n",
            "Epoch 13/30\n",
            "1719/1719 [==============================] - 6s 3ms/step - loss: 0.0824 - accuracy: 0.9767 - val_loss: 0.0960 - val_accuracy: 0.9732\n",
            "Epoch 14/30\n",
            "1719/1719 [==============================] - 6s 3ms/step - loss: 0.0762 - accuracy: 0.9787 - val_loss: 0.0946 - val_accuracy: 0.9738\n",
            "Epoch 15/30\n",
            "1719/1719 [==============================] - 5s 3ms/step - loss: 0.0710 - accuracy: 0.9802 - val_loss: 0.0902 - val_accuracy: 0.9736\n",
            "Epoch 16/30\n",
            "1719/1719 [==============================] - 5s 3ms/step - loss: 0.0662 - accuracy: 0.9813 - val_loss: 0.0862 - val_accuracy: 0.9754\n",
            "Epoch 17/30\n",
            "1719/1719 [==============================] - 5s 3ms/step - loss: 0.0617 - accuracy: 0.9832 - val_loss: 0.0861 - val_accuracy: 0.9748\n",
            "Epoch 18/30\n",
            "1719/1719 [==============================] - 5s 3ms/step - loss: 0.0577 - accuracy: 0.9845 - val_loss: 0.0828 - val_accuracy: 0.9764\n",
            "Epoch 19/30\n",
            "1719/1719 [==============================] - 5s 3ms/step - loss: 0.0540 - accuracy: 0.9855 - val_loss: 0.0810 - val_accuracy: 0.9782\n",
            "Epoch 20/30\n",
            "1719/1719 [==============================] - 5s 3ms/step - loss: 0.0507 - accuracy: 0.9860 - val_loss: 0.0810 - val_accuracy: 0.9776\n",
            "Epoch 21/30\n",
            "1719/1719 [==============================] - 5s 3ms/step - loss: 0.0477 - accuracy: 0.9876 - val_loss: 0.0769 - val_accuracy: 0.9768\n",
            "Epoch 22/30\n",
            "1719/1719 [==============================] - 5s 3ms/step - loss: 0.0447 - accuracy: 0.9887 - val_loss: 0.0765 - val_accuracy: 0.9774\n",
            "Epoch 23/30\n",
            "1719/1719 [==============================] - 5s 3ms/step - loss: 0.0420 - accuracy: 0.9890 - val_loss: 0.0750 - val_accuracy: 0.9770\n",
            "Epoch 24/30\n",
            "1719/1719 [==============================] - 5s 3ms/step - loss: 0.0394 - accuracy: 0.9900 - val_loss: 0.0741 - val_accuracy: 0.9784\n",
            "Epoch 25/30\n",
            "1719/1719 [==============================] - 5s 3ms/step - loss: 0.0374 - accuracy: 0.9903 - val_loss: 0.0724 - val_accuracy: 0.9786\n",
            "Epoch 26/30\n",
            "1719/1719 [==============================] - 5s 3ms/step - loss: 0.0349 - accuracy: 0.9913 - val_loss: 0.0716 - val_accuracy: 0.9800\n",
            "Epoch 27/30\n",
            "1719/1719 [==============================] - 5s 3ms/step - loss: 0.0332 - accuracy: 0.9920 - val_loss: 0.0701 - val_accuracy: 0.9804\n",
            "Epoch 28/30\n",
            "1719/1719 [==============================] - 5s 3ms/step - loss: 0.0313 - accuracy: 0.9927 - val_loss: 0.0713 - val_accuracy: 0.9792\n",
            "Epoch 29/30\n",
            "1719/1719 [==============================] - 5s 3ms/step - loss: 0.0293 - accuracy: 0.9933 - val_loss: 0.0714 - val_accuracy: 0.9786\n",
            "Epoch 30/30\n",
            "1719/1719 [==============================] - 5s 3ms/step - loss: 0.0277 - accuracy: 0.9937 - val_loss: 0.0696 - val_accuracy: 0.9802\n"
          ]
        }
      ],
      "source": [
        "history = model.fit(X_train, y_train, epochs=30, validation_data=(X_valid, y_valid))"
      ]
    },
    {
      "cell_type": "code",
      "execution_count": null,
      "metadata": {
        "id": "jz29ZQMTVLBU",
        "outputId": "690c79fb-41fd-4cd7-d5b4-2b4eac9537fe"
      },
      "outputs": [
        {
          "data": {
            "image/png": "[encoded data removed]",
            "text/plain": [
              "<Figure size 800x500 with 1 Axes>"
            ]
          },
          "metadata": {},
          "output_type": "display_data"
        }
      ],
      "source": [
        "import pandas as pd\n",
        "import matplotlib.pyplot as plt\n",
        "\n",
        "pd.DataFrame(history.history).plot(figsize=(8, 5))\n",
        "plt.grid(True)\n",
        "plt.gca().set_ylim(0, 1)\n",
        "plt.xlabel(\"Learning rate\")\n",
        "plt.ylabel(\"Loss\")\n",
        "plt.show()"
      ]
    },
    {
      "cell_type": "code",
      "execution_count": null,
      "metadata": {
        "id": "4lfxyiJrVLBU",
        "outputId": "778bde62-a233-454a-e790-eaa865414de5"
      },
      "outputs": [
        {
          "name": "stdout",
          "output_type": "stream",
          "text": [
            "313/313 [==============================] - 0s 1ms/step - loss: 0.0682 - accuracy: 0.9786\n"
          ]
        },
        {
          "data": {
            "text/plain": [
              "[0.06821319460868835, 0.978600025177002]"
            ]
          },
          "execution_count": 16,
          "metadata": {},
          "output_type": "execute_result"
        }
      ],
      "source": [
        "model.evaluate(X_test, y_test)"
      ]
    },
    {
      "cell_type": "markdown",
      "metadata": {
        "id": "XrOejYLQVLBU"
      },
      "source": [
        "The current accuracy on the test set is under 98%. We see that the validation loss has not yet converged, since it continues to decrease. The learning rate could be adjusted to be larger."
      ]
    },
    {
      "cell_type": "markdown",
      "metadata": {
        "id": "-pFM2n_xVLBU"
      },
      "source": [
        "## Step 6: Fine-tuning hyperparameters"
      ]
    },
    {
      "cell_type": "markdown",
      "metadata": {
        "id": "SWeQaUYiVLBV"
      },
      "source": [
        "* Randomized Grid Search"
      ]
    },
    {
      "cell_type": "code",
      "execution_count": null,
      "metadata": {
        "id": "2AWunCsnVLBV"
      },
      "outputs": [],
      "source": [
        "from scipy.stats import randint\n",
        "\n",
        "keras.backend.clear_session()\n",
        "np.random.seed(42)\n",
        "tf.random.set_seed(42)"
      ]
    },
    {
      "cell_type": "code",
      "execution_count": null,
      "metadata": {
        "id": "_aea9pFeVLBV"
      },
      "outputs": [],
      "source": [
        "def build_model(learning_rate=0.01, neurons_1=300, neurons_2=100, activation='relu'):\n",
        "    model = keras.models.Sequential([\n",
        "        keras.layers.Flatten(input_shape=[28, 28]),\n",
        "        keras.layers.Dense(neurons_1, activation=activation),\n",
        "        keras.layers.Dense(neurons_2, activation=activation),\n",
        "        keras.layers.Dense(10, activation=\"softmax\")\n",
        "    ])\n",
        "\n",
        "    model.compile(optimizer=keras.optimizers.SGD(learning_rate=learning_rate),\n",
        "                  loss='sparse_categorical_crossentropy',\n",
        "                  metrics=['accuracy'])\n",
        "    return model"
      ]
    },
    {
      "cell_type": "code",
      "execution_count": null,
      "metadata": {
        "id": "67fqmXREVLBV"
      },
      "outputs": [],
      "source": [
        "from scikeras.wrappers import KerasClassifier\n",
        "\n",
        "keras_classifier = KerasClassifier(build_fn=build_model)"
      ]
    },
    {
      "cell_type": "code",
      "execution_count": null,
      "metadata": {
        "id": "otUQR_jVVLBV"
      },
      "outputs": [],
      "source": [
        "from sklearn.model_selection import RandomizedSearchCV\n",
        "from scipy.stats import randint\n",
        "param_dist = {\n",
        "    'model__learning_rate':[0.1, 0.3],\n",
        "    'model__neurons_1': randint(50, 500),\n",
        "    'model__neurons_2': randint(50, 500),\n",
        "    'epochs':[30,100]\n",
        "}"
      ]
    },
    {
      "cell_type": "code",
      "execution_count": null,
      "metadata": {
        "id": "-4Lok8jSVLBW"
      },
      "outputs": [],
      "source": [
        "# Initially tried a lot of randomized hyperparameters, but did not get over 98% accuracy.\n",
        "# Interrupted due to execution time issues.\n",
        "# But find learning_rate of 0.1 can reach accuracy over 98%\n",
        "rnd_search = RandomizedSearchCV(keras_classifier, param_dist, n_iter=4, cv=3)\n",
        "rnd_search.fit(X_train, y_train, epochs=100,\n",
        "                  validation_data=(X_valid, y_valid),\n",
        "                  callbacks=[keras.callbacks.EarlyStopping(patience=10)])"
      ]
    },
    {
      "cell_type": "markdown",
      "metadata": {
        "id": "Om1C3MYmVLBW"
      },
      "source": [
        "* Select the best model"
      ]
    },
    {
      "cell_type": "code",
      "execution_count": null,
      "metadata": {
        "id": "YtaoGur9VLBW"
      },
      "outputs": [],
      "source": [
        "best_params = rnd_search.best_params_\n",
        "best_params"
      ]
    },
    {
      "cell_type": "markdown",
      "metadata": {
        "id": "rKVRYq91VLBW"
      },
      "source": [
        "## Step 7: Use the best model on the validation set and implement early stopping"
      ]
    },
    {
      "cell_type": "code",
      "execution_count": null,
      "metadata": {
        "id": "lVLlxBAyVLBW"
      },
      "outputs": [],
      "source": [
        "keras.backend.clear_session()\n",
        "np.random.seed(42)\n",
        "tf.random.set_seed(42)"
      ]
    },
    {
      "cell_type": "code",
      "execution_count": null,
      "metadata": {
        "id": "G4JBc5DxVLBW"
      },
      "outputs": [],
      "source": [
        "import os\n",
        "\n",
        "root_logdir = os.path.join(os.curdir, \"my_logs\")"
      ]
    },
    {
      "cell_type": "code",
      "execution_count": null,
      "metadata": {
        "id": "JEQbhpw7VLBX"
      },
      "outputs": [],
      "source": [
        "def get_run_logdir():\n",
        "    import time\n",
        "    run_id = time.strftime(\"run_%Y_%m_%d-%H_%M_%S\")\n",
        "    return os.path.join(root_logdir, run_id)\n",
        "\n",
        "run_logdir = get_run_logdir()"
      ]
    },
    {
      "cell_type": "code",
      "execution_count": null,
      "metadata": {
        "id": "dofwQ5UpVLBX",
        "outputId": "2905d0bd-37c3-418e-b93c-43f1aba39ea9"
      },
      "outputs": [
        {
          "name": "stdout",
          "output_type": "stream",
          "text": [
            "Epoch 1/100\n",
            "1719/1719 [==============================] - 7s 4ms/step - loss: 0.0185 - accuracy: 0.9948 - val_loss: 0.1024 - val_accuracy: 0.9744\n",
            "Epoch 2/100\n",
            "1719/1719 [==============================] - 6s 4ms/step - loss: 0.0374 - accuracy: 0.9876 - val_loss: 0.1363 - val_accuracy: 0.9642\n",
            "Epoch 3/100\n",
            "1719/1719 [==============================] - 6s 4ms/step - loss: 0.0244 - accuracy: 0.9918 - val_loss: 0.0884 - val_accuracy: 0.9790\n",
            "Epoch 4/100\n",
            "1719/1719 [==============================] - 6s 4ms/step - loss: 0.0166 - accuracy: 0.9944 - val_loss: 0.0799 - val_accuracy: 0.9808\n",
            "Epoch 5/100\n",
            "1719/1719 [==============================] - 7s 4ms/step - loss: 0.0077 - accuracy: 0.9975 - val_loss: 0.0772 - val_accuracy: 0.9822\n",
            "Epoch 6/100\n",
            "1719/1719 [==============================] - 6s 4ms/step - loss: 0.0038 - accuracy: 0.9990 - val_loss: 0.0803 - val_accuracy: 0.9834\n",
            "Epoch 7/100\n",
            "1719/1719 [==============================] - 6s 4ms/step - loss: 0.0015 - accuracy: 0.9998 - val_loss: 0.0766 - val_accuracy: 0.9842\n",
            "Epoch 8/100\n",
            "1719/1719 [==============================] - 6s 4ms/step - loss: 6.1163e-04 - accuracy: 1.0000 - val_loss: 0.0770 - val_accuracy: 0.9842\n",
            "Epoch 9/100\n",
            "1719/1719 [==============================] - 7s 4ms/step - loss: 4.2198e-04 - accuracy: 1.0000 - val_loss: 0.0780 - val_accuracy: 0.9842\n",
            "Epoch 10/100\n",
            "1719/1719 [==============================] - 7s 4ms/step - loss: 3.5908e-04 - accuracy: 1.0000 - val_loss: 0.0778 - val_accuracy: 0.9844\n",
            "Epoch 11/100\n",
            "1719/1719 [==============================] - 7s 4ms/step - loss: 3.1341e-04 - accuracy: 1.0000 - val_loss: 0.0798 - val_accuracy: 0.9842\n",
            "Epoch 12/100\n",
            "1719/1719 [==============================] - 7s 4ms/step - loss: 2.9003e-04 - accuracy: 1.0000 - val_loss: 0.0791 - val_accuracy: 0.9844\n",
            "Epoch 13/100\n",
            "1719/1719 [==============================] - 6s 4ms/step - loss: 2.6443e-04 - accuracy: 1.0000 - val_loss: 0.0796 - val_accuracy: 0.9844\n",
            "Epoch 14/100\n",
            "1719/1719 [==============================] - 6s 4ms/step - loss: 2.4548e-04 - accuracy: 1.0000 - val_loss: 0.0811 - val_accuracy: 0.9842\n",
            "Epoch 15/100\n",
            "1719/1719 [==============================] - 7s 4ms/step - loss: 2.3162e-04 - accuracy: 1.0000 - val_loss: 0.0812 - val_accuracy: 0.9842\n",
            "Epoch 16/100\n",
            "1719/1719 [==============================] - 7s 4ms/step - loss: 2.1648e-04 - accuracy: 1.0000 - val_loss: 0.0815 - val_accuracy: 0.9842\n",
            "Epoch 17/100\n",
            "1719/1719 [==============================] - 7s 4ms/step - loss: 2.0512e-04 - accuracy: 1.0000 - val_loss: 0.0822 - val_accuracy: 0.9840\n",
            "Epoch 18/100\n",
            "1719/1719 [==============================] - 7s 4ms/step - loss: 1.9391e-04 - accuracy: 1.0000 - val_loss: 0.0823 - val_accuracy: 0.9846\n",
            "Epoch 19/100\n",
            "1719/1719 [==============================] - 7s 4ms/step - loss: 1.8507e-04 - accuracy: 1.0000 - val_loss: 0.0825 - val_accuracy: 0.9842\n",
            "Epoch 20/100\n",
            "1719/1719 [==============================] - 7s 4ms/step - loss: 1.7723e-04 - accuracy: 1.0000 - val_loss: 0.0831 - val_accuracy: 0.9846\n",
            "Epoch 21/100\n",
            "1719/1719 [==============================] - 7s 4ms/step - loss: 1.6955e-04 - accuracy: 1.0000 - val_loss: 0.0830 - val_accuracy: 0.9840\n",
            "Epoch 22/100\n",
            "1719/1719 [==============================] - 7s 4ms/step - loss: 1.6261e-04 - accuracy: 1.0000 - val_loss: 0.0836 - val_accuracy: 0.9846\n",
            "Epoch 23/100\n",
            "1719/1719 [==============================] - 7s 4ms/step - loss: 1.5600e-04 - accuracy: 1.0000 - val_loss: 0.0842 - val_accuracy: 0.9844\n",
            "Epoch 24/100\n",
            "1719/1719 [==============================] - 7s 4ms/step - loss: 1.5015e-04 - accuracy: 1.0000 - val_loss: 0.0846 - val_accuracy: 0.9844\n",
            "Epoch 25/100\n",
            "1719/1719 [==============================] - 7s 4ms/step - loss: 1.4518e-04 - accuracy: 1.0000 - val_loss: 0.0843 - val_accuracy: 0.9846\n",
            "Epoch 26/100\n",
            "1719/1719 [==============================] - 6s 4ms/step - loss: 1.4000e-04 - accuracy: 1.0000 - val_loss: 0.0848 - val_accuracy: 0.9846\n",
            "Epoch 27/100\n",
            "1719/1719 [==============================] - 7s 4ms/step - loss: 1.3536e-04 - accuracy: 1.0000 - val_loss: 0.0848 - val_accuracy: 0.9844\n"
          ]
        }
      ],
      "source": [
        "tensorboard_cb = keras.callbacks.TensorBoard(run_logdir)\n",
        "checkpoint_cb = keras.callbacks.ModelCheckpoint(\"my_keras_model.h5\",\n",
        "                                                save_best_only=True)\n",
        "\n",
        "early_stopping_cb = keras.callbacks.EarlyStopping(patience=20,\n",
        "                                                  restore_best_weights=True)\n",
        "\n",
        "best_model = build_model(learning_rate=0.1)\n",
        "new_history = model.fit(X_train, y_train, epochs=100,\n",
        "                    validation_data=(X_valid, y_valid),\n",
        "                    callbacks=[checkpoint_cb, early_stopping_cb, tensorboard_cb])"
      ]
    },
    {
      "cell_type": "markdown",
      "metadata": {
        "id": "O20eND4dVLBX"
      },
      "source": [
        "## Step 8: Plot learning curves using TensorBoard"
      ]
    },
    {
      "cell_type": "code",
      "execution_count": null,
      "metadata": {
        "id": "Itv1oTBiVLBX",
        "outputId": "3e78db85-dd50-4fe5-91b5-a65459a973d8"
      },
      "outputs": [
        {
          "name": "stdout",
          "output_type": "stream",
          "text": [
            "The tensorboard extension is already loaded. To reload it, use:\n",
            "  %reload_ext tensorboard\n"
          ]
        },
        {
          "data": {
            "text/plain": [
              "Reusing TensorBoard on port 6006 (pid 84344), started 3:38:37 ago. (Use '!kill 84344' to kill it.)"
            ]
          },
          "metadata": {},
          "output_type": "display_data"
        },
        {
          "data": {
            "text/html": [
              "\n",
              "      <iframe id=\"tensorboard-frame-f6859b438900ba61\" width=\"100%\" height=\"800\" frameborder=\"0\">\n",
              "      </iframe>\n",
              "      <script>\n",
              "        (function() {\n",
              "          const frame = document.getElementById(\"tensorboard-frame-f6859b438900ba61\");\n",
              "          const url = new URL(\"http://localhost\");\n",
              "          const port = 6006;\n",
              "          if (port) {\n",
              "            url.port = port;\n",
              "          }\n",
              "          frame.src = url;\n",
              "        })();\n",
              "      </script>\n",
              "    "
            ],
            "text/plain": [
              "<IPython.core.display.HTML object>"
            ]
          },
          "metadata": {},
          "output_type": "display_data"
        }
      ],
      "source": [
        "%load_ext tensorboard\n",
        "%tensorboard --logdir=./my_logs --port=6006 --host=0.0.0.0"
      ]
    },
    {
      "cell_type": "markdown",
      "metadata": {
        "id": "Bt2uL9iNVLBY"
      },
      "source": [
        "## Step 9: Plot the network architecture"
      ]
    },
    {
      "cell_type": "code",
      "execution_count": null,
      "metadata": {
        "id": "wrNKWc9QVLBY",
        "outputId": "eaeb9dbc-f4c0-4522-8b7b-2ea2a948b365"
      },
      "outputs": [
        {
          "name": "stdout",
          "output_type": "stream",
          "text": [
            "Model: \"sequential_7\"\n",
            "_________________________________________________________________\n",
            " Layer (type)                Output Shape              Param #   \n",
            "=================================================================\n",
            " flatten_7 (Flatten)         (None, 784)               0         \n",
            "                                                                 \n",
            " dense_21 (Dense)            (None, 300)               235500    \n",
            "                                                                 \n",
            " dense_22 (Dense)            (None, 100)               30100     \n",
            "                                                                 \n",
            " dense_23 (Dense)            (None, 10)                1010      \n",
            "                                                                 \n",
            "=================================================================\n",
            "Total params: 266610 (1.02 MB)\n",
            "Trainable params: 266610 (1.02 MB)\n",
            "Non-trainable params: 0 (0.00 Byte)\n",
            "_________________________________________________________________\n"
          ]
        }
      ],
      "source": [
        "best_model = keras.models.load_model(\"my_keras_model.h5\")\n",
        "best_model.summary()"
      ]
    },
    {
      "cell_type": "code",
      "execution_count": null,
      "metadata": {
        "id": "OhAo2a8lVLBY",
        "outputId": "9360a54a-c9f4-442b-89c2-b7262d60fc0f"
      },
      "outputs": [
        {
          "data": {
            "image/png": "[encoded data removed]",
            "text/plain": [
              "<IPython.core.display.Image object>"
            ]
          },
          "execution_count": 170,
          "metadata": {},
          "output_type": "execute_result"
        }
      ],
      "source": [
        "keras.utils.plot_model(best_model, to_file='best_model_plot.png', show_shapes=True, show_layer_names=True)"
      ]
    },
    {
      "cell_type": "markdown",
      "metadata": {
        "id": "6Vo_ce38VLBY"
      },
      "source": [
        "## Step 10: Evaluate Current Model"
      ]
    },
    {
      "cell_type": "code",
      "execution_count": null,
      "metadata": {
        "id": "P0hfR8VBVLBd",
        "outputId": "d55d0cf1-0815-492f-e54e-a39701968f6f"
      },
      "outputs": [
        {
          "name": "stdout",
          "output_type": "stream",
          "text": [
            "313/313 [==============================] - 1s 2ms/step - loss: 0.0727 - accuracy: 0.9829\n"
          ]
        },
        {
          "data": {
            "text/plain": [
              "[0.07274184376001358, 0.9829000234603882]"
            ]
          },
          "execution_count": 171,
          "metadata": {},
          "output_type": "execute_result"
        }
      ],
      "source": [
        "best_model.evaluate(X_test, y_test)"
      ]
    }
  ],
  "metadata": {
    "kernelspec": {
      "display_name": "Python 3 (ipykernel)",
      "language": "python",
      "name": "python3"
    },
    "language_info": {
      "codemirror_mode": {
        "name": "ipython",
        "version": 3
      },
      "file_extension": ".py",
      "mimetype": "text/x-python",
      "name": "python",
      "nbconvert_exporter": "python",
      "pygments_lexer": "ipython3",
      "version": "3.11.5"
    },
    "colab": {
      "provenance": []
    }
  },
  "nbformat": 4,
  "nbformat_minor": 0
}